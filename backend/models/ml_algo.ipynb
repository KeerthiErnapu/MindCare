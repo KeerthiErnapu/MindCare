{
 "cells": [
  {
   "cell_type": "code",
   "execution_count": 2,
   "metadata": {},
   "outputs": [],
   "source": [
    "import os\n",
    "import pandas as pd\n",
    "import numpy as np\n",
    "import random\n",
    "import logging\n",
    "from utils import extract_feature, get_audio_config, AVAILABLE_EMOTIONS\n",
    "from data_extractor import load_data\n",
    "from create_csv import write_emodb_csv, write_tess_ravdess_csv, write_custom_csv\n",
    "from sklearn.metrics import accuracy_score, confusion_matrix\n",
    "from sklearn.model_selection import GridSearchCV\n",
    "import matplotlib.pyplot as plt\n"
   ]
  },
  {
   "cell_type": "code",
   "execution_count": null,
   "metadata": {},
   "outputs": [
    {
     "name": "stdout",
     "output_type": "stream",
     "text": [
      "CSV Files Found: ['test_custom.csv', 'test_emodb.csv', 'test_tess_ravdess.csv', 'train_custom.csv', 'train_emodb.csv', 'train_tess_ravdess.csv']\n",
      "                                                path  emotion\n",
      "0  C://Users//visha//Downloads//emotion-recogniti...    happy\n",
      "1  C://Users//visha//Downloads//emotion-recogniti...  neutral\n",
      "2  C://Users//visha//Downloads//emotion-recogniti...    angry\n",
      "3  C://Users//visha//Downloads//emotion-recogniti...    happy\n",
      "4  C://Users//visha//Downloads//emotion-recogniti...  neutral\n",
      "path       0\n",
      "emotion    0\n",
      "dtype: int64\n"
     ]
    }
   ],
   "source": [
    "csv_path = \"C://Users//visha//Downloads//emotion-recognition-using-speech-master//emotion-recognition-using-speech-master//csv_files\"\n",
    "\n",
    "# List CSV files\n",
    "print(\"CSV Files Found:\", os.listdir(csv_path))\n",
    "\n",
    "# Load the train dataset\n",
    "df_train = pd.read_csv(os.path.join(csv_path, \"train_emodb.csv\"))\n",
    "print(df_train.head())\n",
    "\n",
    "print(df_train.isnull().sum())\n"
   ]
  },
  {
   "cell_type": "code",
   "execution_count": 11,
   "metadata": {},
   "outputs": [
    {
     "name": "stdout",
     "output_type": "stream",
     "text": [
      "📌 Total feature files found: 2\n",
      "📌 Sample feature files: ['test_mfcc-chroma-mel_ABCDFHNPS_1002.npy', 'train_mfcc-chroma-mel_ABCDFHNPS_5385.npy']\n"
     ]
    }
   ],
   "source": [
    "import os\n",
    "\n",
    "features_path = \"C://Users//visha//Downloads//emotion-recognition-using-speech-master//emotion-recognition-using-speech-master//features\"\n",
    "\n",
    "# List all feature files\n",
    "feature_files = os.listdir(features_path)\n",
    "print(f\"📌 Total feature files found: {len(feature_files)}\")\n",
    "print(f\"📌 Sample feature files: {feature_files[:5]}\")  # Show first 5\n"
   ]
  },
  {
   "cell_type": "code",
   "execution_count": 12,
   "metadata": {},
   "outputs": [
    {
     "name": "stdout",
     "output_type": "stream",
     "text": [
      "✅ Feature shape: (1002, 180)\n",
      "✅ First few feature values:\n",
      "[[-2.34828918e+02  8.63384552e+01  5.10774517e+00 ...  1.01142013e-02\n",
      "   4.28017415e-03  2.61196098e-03]\n",
      " [-2.11208389e+02  7.76294861e+01  5.82648468e+00 ...  6.42562052e-03\n",
      "   3.77886556e-03  2.32989457e-03]\n",
      " [-1.83999680e+02  2.80080948e+01 -2.51207581e+01 ...  7.61826802e-03\n",
      "   4.02457919e-03  2.26675719e-03]\n",
      " ...\n",
      " [-1.73714111e+02  7.10036774e+01  1.42898540e+01 ...  1.91421267e-02\n",
      "   1.05606839e-02  5.49915247e-03]\n",
      " [-1.61346939e+02  8.28452530e+01  1.34468393e+01 ...  2.62338072e-02\n",
      "   1.81395914e-02  1.02709876e-02]\n",
      " [-1.28739044e+02  2.90313339e+01  1.43906870e+01 ...  2.90725559e-01\n",
      "   1.18613511e-01  6.68447018e-02]]\n"
     ]
    }
   ],
   "source": [
    "import numpy as np\n",
    "\n",
    "# Load a sample feature file\n",
    "sample_file = os.path.join(features_path, feature_files[0])  # Pick the first file\n",
    "features = np.load(sample_file)\n",
    "\n",
    "print(f\"✅ Feature shape: {features.shape}\")\n",
    "print(f\"✅ First few feature values:\\n{features[:10]}\")\n"
   ]
  },
  {
   "cell_type": "code",
   "execution_count": 13,
   "metadata": {},
   "outputs": [
    {
     "name": "stdout",
     "output_type": "stream",
     "text": [
      "📌 Unique feature shapes: {(5385, 180), (1002, 180)}\n"
     ]
    }
   ],
   "source": [
    "feature_shapes = [np.load(os.path.join(features_path, f)).shape for f in feature_files]\n",
    "unique_shapes = set(feature_shapes)\n",
    "\n",
    "print(f\"📌 Unique feature shapes: {unique_shapes}\")\n"
   ]
  },
  {
   "cell_type": "code",
   "execution_count": 14,
   "metadata": {},
   "outputs": [
    {
     "name": "stdout",
     "output_type": "stream",
     "text": [
      "📌 Total Samples in CSV: 4858\n",
      "📌 Total Feature Files: 2\n"
     ]
    }
   ],
   "source": [
    "import pandas as pd\n",
    "\n",
    "csv_path = \"C://Users//visha//Downloads//emotion-recognition-using-speech-master//emotion-recognition-using-speech-master//csv_files/train_tess_ravdess.csv\"\n",
    "df = pd.read_csv(csv_path)\n",
    "\n",
    "print(f\"📌 Total Samples in CSV: {len(df)}\")\n",
    "print(f\"📌 Total Feature Files: {len(feature_files)}\")\n"
   ]
  },
  {
   "cell_type": "code",
   "execution_count": 15,
   "metadata": {},
   "outputs": [
    {
     "name": "stdout",
     "output_type": "stream",
     "text": [
      "📌 Unique Emotions in Training Data: {'sad', 'happy', 'fear', 'angry', 'neutral', 'ps', 'disgust', 'boredom'}\n",
      "📌 Unique Emotions in CSV Files: {'sad', 'ps', 'fear', 'happy', 'neutral', 'disgust', 'angry'}\n"
     ]
    }
   ],
   "source": [
    "print(\"📌 Unique Emotions in Training Data:\", set(y_train))\n",
    "print(\"📌 Unique Emotions in CSV Files:\", set(df_train_tess_ravdess[\"emotion\"].unique()))\n"
   ]
  },
  {
   "cell_type": "code",
   "execution_count": null,
   "metadata": {},
   "outputs": [
    {
     "name": "stdout",
     "output_type": "stream",
     "text": [
      "✅ Loaded Training Features: (5385, 180)\n",
      "✅ Loaded Testing Features: (1002, 180)\n"
     ]
    }
   ],
   "source": [
    "import numpy as np\n",
    "import pandas as pd\n",
    "\n",
    "# Define feature file paths\n",
    "train_features_path = \"C://Users//visha//Downloads//emotion-recognition-using-speech-master//features//train_mfcc-chroma-mel_ACDFHNPS_5385.npy\"\n",
    "test_features_path = \"C://Users//visha//Downloads//emotion-recognition-using-speech-master//features//test_mfcc-chroma-mel_ACDFHNPS_1002.npy\"\n",
    "\n",
    "# Load the features\n",
    "X_train = np.load(train_features_path)\n",
    "X_test = np.load(test_features_path)\n",
    "\n",
    "print(f\" Loaded Training Features: {X_train.shape}\")  # Should be (5385, 180)\n",
    "print(f\" Loaded Testing Features: {X_test.shape}\")    # Should be (1002, 180)\n",
    "\n"
   ]
  },
  {
   "cell_type": "code",
   "execution_count": null,
   "metadata": {},
   "outputs": [
    {
     "name": "stdout",
     "output_type": "stream",
     "text": [
      "📌 Total Samples in CSV (Train): 5385\n",
      "📌 Total Samples in CSV (Test): 1002\n"
     ]
    }
   ],
   "source": [
    "csv_path = \"C://Users//visha//Downloads//emotion-recognition-using-speech-master//emotion-recognition-using-speech-master//csv_files\"\n",
    "\n",
    "# Load training CSVs\n",
    "df_train_emodb = pd.read_csv(os.path.join(csv_path, \"train_emodb.csv\"))\n",
    "df_train_tess_ravdess = pd.read_csv(os.path.join(csv_path, \"train_tess_ravdess.csv\"))\n",
    "df_train_custom = pd.read_csv(os.path.join(csv_path, \"train_custom.csv\"))\n",
    "\n",
    "# Load testing CSVs\n",
    "df_test_emodb = pd.read_csv(os.path.join(csv_path, \"test_emodb.csv\"))\n",
    "df_test_tess_ravdess = pd.read_csv(os.path.join(csv_path, \"test_tess_ravdess.csv\"))\n",
    "df_test_custom = pd.read_csv(os.path.join(csv_path, \"test_custom.csv\"))\n",
    "\n",
    "# Count total samples in CSV\n",
    "total_train_csv = len(df_train_emodb) + len(df_train_tess_ravdess) + len(df_train_custom)\n",
    "total_test_csv = len(df_test_emodb) + len(df_test_tess_ravdess) + len(df_test_custom)\n",
    "\n",
    "print(f\"Total Samples in CSV (Train): {total_train_csv}\")\n",
    "print(f\" Total Samples in CSV (Test): {total_test_csv}\")\n",
    "\n"
   ]
  },
  {
   "cell_type": "code",
   "execution_count": 25,
   "metadata": {},
   "outputs": [
    {
     "name": "stdout",
     "output_type": "stream",
     "text": [
      "✅ Loaded Features vs CSV Samples Match: True\n",
      "✅ Loaded Test Features vs CSV Samples Match: True\n"
     ]
    }
   ],
   "source": [
    "print(f\"✅ Loaded Features vs CSV Samples Match: {len(X_train) == total_train_csv}\")\n",
    "print(f\"✅ Loaded Test Features vs CSV Samples Match: {len(X_test) == total_test_csv}\")\n"
   ]
  },
  {
   "cell_type": "code",
   "execution_count": 32,
   "metadata": {},
   "outputs": [
    {
     "name": "stdout",
     "output_type": "stream",
     "text": [
      "✅ Loaded Training Features Shape: (5385, 180)\n",
      "✅ Loaded Testing Features Shape: (1002, 180)\n"
     ]
    }
   ],
   "source": [
    "import numpy as np\n",
    "\n",
    "# Define feature file paths\n",
    "train_features_path = \"C://Users//visha//Downloads//emotion-recognition-using-speech-master//features//train_mfcc-chroma-mel_ACDFHNPS_5385.npy\"\n",
    "test_features_path = \"C://Users//visha//Downloads//emotion-recognition-using-speech-master//features//test_mfcc-chroma-mel_ACDFHNPS_1002.npy\"\n",
    "# Load features\n",
    "X_train = np.load(train_features_path)\n",
    "X_test = np.load(test_features_path)\n",
    "\n",
    "print(f\"✅ Loaded Training Features Shape: {X_train.shape}\")  # Expected (5385, 180)\n",
    "print(f\"✅ Loaded Testing Features Shape: {X_test.shape}\")    # Expected (1002, 180)\n"
   ]
  },
  {
   "cell_type": "code",
   "execution_count": null,
   "metadata": {},
   "outputs": [
    {
     "name": "stdout",
     "output_type": "stream",
     "text": [
      "✅ Total Training Labels Loaded: 5385 (Expected: 5385)\n",
      "✅ Total Testing Labels Loaded: 1002 (Expected: 1002)\n"
     ]
    }
   ],
   "source": [
    "import pandas as pd\n",
    "\n",
    "# CSV file paths\n",
    "csv_path = \"C://Users//visha//Downloads//emotion-recognition-using-speech-master//emotion-recognition-using-speech-master//csv_files\"\n",
    "\n",
    "# Load training CSVs\n",
    "df_train_emodb = pd.read_csv(os.path.join(csv_path, \"train_emodb.csv\"))\n",
    "df_train_tess_ravdess = pd.read_csv(os.path.join(csv_path, \"train_tess_ravdess.csv\"))\n",
    "df_train_custom = pd.read_csv(os.path.join(csv_path, \"train_custom.csv\"))\n",
    "\n",
    "# Load testing CSVs\n",
    "df_test_emodb = pd.read_csv(os.path.join(csv_path, \"test_emodb.csv\"))\n",
    "df_test_tess_ravdess = pd.read_csv(os.path.join(csv_path, \"test_tess_ravdess.csv\"))\n",
    "df_test_custom = pd.read_csv(os.path.join(csv_path, \"test_custom.csv\"))\n",
    "\n",
    "# Combine labels\n",
    "y_train = pd.concat([df_train_emodb[\"emotion\"], df_train_tess_ravdess[\"emotion\"], df_train_custom[\"emotion\"]], ignore_index=True).values\n",
    "y_test = pd.concat([df_test_emodb[\"emotion\"], df_test_tess_ravdess[\"emotion\"], df_test_custom[\"emotion\"]], ignore_index=True).values\n",
    "\n",
    "print(f\"✅ Total Training Labels Loaded: {len(y_train)} (Expected: 5385)\")\n",
    "print(f\"✅ Total Testing Labels Loaded: {len(y_test)} (Expected: 1002)\")\n",
    "\n"
   ]
  },
  {
   "cell_type": "code",
   "execution_count": 34,
   "metadata": {},
   "outputs": [
    {
     "name": "stdout",
     "output_type": "stream",
     "text": [
      "✅ Data is correctly aligned: Features and Labels Match!\n"
     ]
    }
   ],
   "source": [
    "if len(X_train) == len(y_train) and len(X_test) == len(y_test):\n",
    "    print(\"✅ Data is correctly aligned: Features and Labels Match!\")\n",
    "else:\n",
    "    print(\" Mismatch Detected! Check CSV and Features.\")\n"
   ]
  },
  {
   "cell_type": "code",
   "execution_count": 35,
   "metadata": {},
   "outputs": [
    {
     "name": "stdout",
     "output_type": "stream",
     "text": [
      "✅ Model Accuracy: 76.95%\n"
     ]
    }
   ],
   "source": [
    "from sklearn.ensemble import RandomForestClassifier\n",
    "from sklearn.metrics import accuracy_score\n",
    "\n",
    "model = RandomForestClassifier()\n",
    "model.fit(X_train, y_train)\n",
    "\n",
    "y_pred = model.predict(X_test)\n",
    "\n",
    "accuracy = accuracy_score(y_test, y_pred)\n",
    "print(f\"✅ Model Accuracy: {accuracy * 100:.2f}%\")\n"
   ]
  },
  {
   "cell_type": "code",
   "execution_count": 53,
   "metadata": {},
   "outputs": [
    {
     "name": "stdout",
     "output_type": "stream",
     "text": [
      "Model saved successfully at: C://Users//visha//Downloads//emotion-recognition-using-speech-master//emotion-recognition-using-speech-master//MODELS//randomforestclassifier_emotion_model.pkl\n"
     ]
    }
   ],
   "source": [
    "import joblib\n",
    "\n",
    "model_path = \"C://Users//visha//Downloads//emotion-recognition-using-speech-master//emotion-recognition-using-speech-master//MODELS//randomforestclassifier_emotion_model.pkl\"\n",
    "joblib.dump(model_RandomForestClassifier, model_path)\n",
    "\n",
    "print(f\"Model saved successfully at: {model_path}\")"
   ]
  },
  {
   "cell_type": "code",
   "execution_count": 36,
   "metadata": {},
   "outputs": [
    {
     "data": {
      "image/png": "[encoded data removed]",
      "text/plain": [
       "<Figure size 800x600 with 2 Axes>"
      ]
     },
     "metadata": {},
     "output_type": "display_data"
    }
   ],
   "source": [
    "import matplotlib.pyplot as plt\n",
    "import seaborn as sns\n",
    "from sklearn.metrics import confusion_matrix\n",
    "\n",
    "# Compute confusion matrix\n",
    "cm = confusion_matrix(y_test, y_pred, labels=model.classes_)\n",
    "\n",
    "# Plot heatmap\n",
    "plt.figure(figsize=(8, 6))\n",
    "sns.heatmap(cm, annot=True, fmt=\"d\", cmap=\"Blues\", xticklabels=model.classes_, yticklabels=model.classes_)\n",
    "plt.xlabel(\"Predicted\")\n",
    "plt.ylabel(\"Actual\")\n",
    "plt.title(\"Confusion Matrix\")\n",
    "plt.show()\n"
   ]
  },
  {
   "cell_type": "code",
   "execution_count": null,
   "metadata": {},
   "outputs": [
    {
     "name": "stdout",
     "output_type": "stream",
     "text": [
      "✅ SVM Accuracy: 52.89%\n",
      "✅ Gradient Boosting Accuracy: 76.45%\n"
     ]
    }
   ],
   "source": [
    "from sklearn.svm import SVC\n",
    "from sklearn.ensemble import GradientBoostingClassifier\n",
    "\n",
    "# Try SVM (Support Vector Machine)\n",
    "model_svm = SVC(kernel='rbf', probability=True)\n",
    "model_svm.fit(X_train, y_train)\n",
    "y_pred_svm = model_svm.predict(X_test)\n",
    "print(f\"✅ SVM Accuracy: {accuracy_score(y_test, y_pred_svm) * 100:.2f}%\")\n",
    "\n",
    "# Try Gradient Boosting\n",
    "model_gb = GradientBoostingClassifier()\n",
    "model_gb.fit(X_train, y_train)\n",
    "y_pred_gb = model_gb.predict(X_test)\n",
    "print(f\"✅ Gradient Boosting Accuracy: {accuracy_score(y_test, y_pred_gb) * 100:.2f}%\")\n"
   ]
  },
  {
   "cell_type": "code",
   "execution_count": 40,
   "metadata": {},
   "outputs": [
    {
     "name": "stdout",
     "output_type": "stream",
     "text": [
      "✅ Label Encoding Mapping: {'angry': 0, 'boredom': 1, 'disgust': 2, 'fear': 3, 'happy': 4, 'neutral': 5, 'ps': 6, 'sad': 7}\n"
     ]
    }
   ],
   "source": [
    "from sklearn.preprocessing import LabelEncoder\n",
    "\n",
    "\n",
    "label_encoder = LabelEncoder()\n",
    "\n",
    "y_train_encoded = label_encoder.fit_transform(y_train)\n",
    "y_test_encoded = label_encoder.transform(y_test)\n",
    "\n",
    "label_mapping = dict(zip(label_encoder.classes_, label_encoder.transform(label_encoder.classes_)))\n",
    "print(\"✅ Label Encoding Mapping:\", label_mapping)\n",
    "\n",
    "\n"
   ]
  },
  {
   "cell_type": "code",
   "execution_count": 43,
   "metadata": {},
   "outputs": [
    {
     "name": "stdout",
     "output_type": "stream",
     "text": [
      "✅ XGBoost Accuracy: 78.84%\n"
     ]
    }
   ],
   "source": [
    "from xgboost import XGBClassifier\n",
    "\n",
    "model_xgb = XGBClassifier()\n",
    "model_xgb.fit(X_train, y_train_encoded)\n",
    "\n",
    "y_pred_xgb = model_xgb.predict(X_test)\n",
    "\n",
    "y_pred_xgb_labels = label_encoder.inverse_transform(y_pred_xgb)\n",
    "\n",
    "accuracy_xgb = accuracy_score(y_test_encoded, y_pred_xgb)\n",
    "print(f\"✅ XGBoost Accuracy: {accuracy_xgb * 100:.2f}%\")\n",
    "\n"
   ]
  },
  {
   "cell_type": "code",
   "execution_count": 54,
   "metadata": {},
   "outputs": [
    {
     "name": "stdout",
     "output_type": "stream",
     "text": [
      "Model saved successfully at: C://Users//visha//Downloads//emotion-recognition-using-speech-master//emotion-recognition-using-speech-master//MODELS//xgboost_emotion_model.pkl\n"
     ]
    }
   ],
   "source": [
    "import joblib\n",
    "\n",
    "model_path = \"C://Users//visha//Downloads//emotion-recognition-using-speech-master//emotion-recognition-using-speech-master//MODELS//xgboost_emotion_model.pkl\"\n",
    "joblib.dump(model_xgb, model_path)\n",
    "\n",
    "print(f\"Model saved successfully at: {model_path}\")"
   ]
  },
  {
   "cell_type": "code",
   "execution_count": 44,
   "metadata": {},
   "outputs": [
    {
     "name": "stdout",
     "output_type": "stream",
     "text": [
      "✅ CatBoost Accuracy: 79.74%\n"
     ]
    }
   ],
   "source": [
    "from catboost import CatBoostClassifier\n",
    "\n",
    "model_cat = CatBoostClassifier(verbose=0)\n",
    "model_cat.fit(X_train, y_train)\n",
    "\n",
    "y_pred_cat = model_cat.predict(X_test)\n",
    "\n",
    "accuracy_cat = accuracy_score(y_test, y_pred_cat)\n",
    "print(f\"✅ CatBoost Accuracy: {accuracy_cat * 100:.2f}%\")\n"
   ]
  },
  {
   "cell_type": "code",
   "execution_count": null,
   "metadata": {},
   "outputs": [
    {
     "name": "stdout",
     "output_type": "stream",
     "text": [
      "\n",
      "✅ Classification Report:\n",
      "               precision    recall  f1-score   support\n",
      "\n",
      "       angry       0.82      0.95      0.88       170\n",
      "     boredom       0.80      0.19      0.31        21\n",
      "     disgust       0.61      0.72      0.66        93\n",
      "        fear       0.86      0.81      0.83       154\n",
      "       happy       0.75      0.81      0.78       186\n",
      "     neutral       0.93      0.71      0.81       141\n",
      "          ps       0.66      0.85      0.74        78\n",
      "         sad       0.91      0.80      0.85       159\n",
      "\n",
      "    accuracy                           0.80      1002\n",
      "   macro avg       0.79      0.73      0.73      1002\n",
      "weighted avg       0.81      0.80      0.80      1002\n",
      "\n"
     ]
    },
    {
     "data": {
      "image/png": "[encoded data removed]",
      "text/plain": [
       "<Figure size 800x600 with 2 Axes>"
      ]
     },
     "metadata": {},
     "output_type": "display_data"
    }
   ],
   "source": [
    "from sklearn.metrics import classification_report, confusion_matrix\n",
    "import seaborn as sns\n",
    "import matplotlib.pyplot as plt\n",
    "\n",
    "print(\"\\n✅ Classification Report:\\n\", classification_report(y_test, y_pred_cat))\n",
    "\n",
    "cm = confusion_matrix(y_test, y_pred_cat, labels=model_cat.classes_)\n",
    "plt.figure(figsize=(8, 6))\n",
    "sns.heatmap(cm, annot=True, fmt=\"d\", cmap=\"Blues\", xticklabels=model_cat.classes_, yticklabels=model_cat.classes_)\n",
    "plt.xlabel(\"Predicted\")\n",
    "plt.ylabel(\"Actual\")\n",
    "plt.title(\"Confusion Matrix - CatBoost Model\")\n",
    "plt.show()\n"
   ]
  },
  {
   "cell_type": "code",
   "execution_count": 49,
   "metadata": {},
   "outputs": [
    {
     "name": "stdout",
     "output_type": "stream",
     "text": [
      "🎙️ Predicted Emotion: ['fear']\n"
     ]
    }
   ],
   "source": [
    "from utils import extract_feature, get_audio_config\n",
    "\n",
    "new_audio_path = \"C://Users//visha//Downloads//emotion-recognition-using-speech-master//emotion-recognition-using-speech-master//converted_data//training//Actor_01//01_01_01_01_dogs-sitting_fear.wav\"\n",
    "#\"C://Users//visha//Downloads//emotion-recognition-using-speech-master//emotion-recognition-using-speech-master//converted_data//test-custom//soumaya2_happy.wav\"\n",
    "\n",
    "new_audio_features = extract_feature(new_audio_path, **get_audio_config([\"mfcc\", \"chroma\", \"mel\"])).reshape(1, -1)\n",
    "\n",
    "predicted_emotion = model_cat.predict(new_audio_features)\n",
    "print(f\"🎙️ Predicted Emotion: {predicted_emotion[0]}\")"
   ]
  },
  {
   "cell_type": "code",
   "execution_count": 50,
   "metadata": {},
   "outputs": [
    {
     "name": "stdout",
     "output_type": "stream",
     "text": [
      "Model saved successfully at: C://Users//visha//Downloads//emotion-recognition-using-speech-master//emotion-recognition-using-speech-master//MODELS//catboost_emotion_model.pkl\n"
     ]
    }
   ],
   "source": [
    "import joblib\n",
    "\n",
    "model_path = \"C://Users//visha//Downloads//emotion-recognition-using-speech-master//emotion-recognition-using-speech-master//MODELS//catboost_emotion_model.pkl\"\n",
    "joblib.dump(model_cat, model_path)\n",
    "\n",
    "print(f\"Model saved successfully at: {model_path}\")"
   ]
  },
  {
   "cell_type": "code",
   "execution_count": 51,
   "metadata": {},
   "outputs": [
    {
     "name": "stdout",
     "output_type": "stream",
     "text": [
      "✅ Model loaded successfully!\n"
     ]
    }
   ],
   "source": [
    "loaded_model = joblib.load(model_path)\n",
    "print(\"✅ Model loaded successfully!\")\n"
   ]
  },
  {
   "cell_type": "code",
   "execution_count": null,
   "metadata": {},
   "outputs": [],
   "source": []
  }
 ],
 "metadata": {
  "kernelspec": {
   "display_name": ".venv",
   "language": "python",
   "name": "python3"
  },
  "language_info": {
   "codemirror_mode": {
    "name": "ipython",
    "version": 3
   },
   "file_extension": ".py",
   "mimetype": "text/x-python",
   "name": "python",
   "nbconvert_exporter": "python",
   "pygments_lexer": "ipython3",
   "version": "3.11.9"
  }
 },
 "nbformat": 4,
 "nbformat_minor": 2
}
